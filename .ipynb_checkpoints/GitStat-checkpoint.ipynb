{
 "cells": [
  {
   "cell_type": "markdown",
   "metadata": {},
   "source": [
    "# GitHub UA statistic\n",
    "\n",
    "Basic stats of Ukrainian GitHub users. Information neither full nor representative"
   ]
  },
  {
   "cell_type": "code",
   "execution_count": 1,
   "metadata": {},
   "outputs": [],
   "source": [
    "import pandas as pd\n",
    "import numpy as np\n",
    "import seaborn as sns\n",
    "import mysql.connector\n",
    "from sqlalchemy import create_engine\n",
    "import matplotlib.pyplot as plt\n",
    "from IPython.core.display import display, HTML"
   ]
  },
  {
   "cell_type": "code",
   "execution_count": 2,
   "metadata": {},
   "outputs": [],
   "source": [
    "password = 'Mart_3.1415'"
   ]
  },
  {
   "cell_type": "code",
   "execution_count": 3,
   "metadata": {},
   "outputs": [],
   "source": [
    "engine = create_engine('mysql+mysqlconnector://root:{}@localhost:3306/github'.format(password), echo=False)"
   ]
  },
  {
   "cell_type": "code",
   "execution_count": 4,
   "metadata": {},
   "outputs": [],
   "source": [
    "df = pd.read_sql('SELECT * FROM users_ukr', engine).set_index('id')"
   ]
  },
  {
   "cell_type": "markdown",
   "metadata": {},
   "source": [
    "### Raw data description"
   ]
  },
  {
   "cell_type": "code",
   "execution_count": 5,
   "metadata": {
    "scrolled": true
   },
   "outputs": [
    {
     "data": {
      "text/html": [
       "<div>\n",
       "<style scoped>\n",
       "    .dataframe tbody tr th:only-of-type {\n",
       "        vertical-align: middle;\n",
       "    }\n",
       "\n",
       "    .dataframe tbody tr th {\n",
       "        vertical-align: top;\n",
       "    }\n",
       "\n",
       "    .dataframe thead th {\n",
       "        text-align: right;\n",
       "    }\n",
       "</style>\n",
       "<table border=\"1\" class=\"dataframe\">\n",
       "  <thead>\n",
       "    <tr style=\"text-align: right;\">\n",
       "      <th></th>\n",
       "      <th>parsed</th>\n",
       "      <th>fromUA</th>\n",
       "      <th>login</th>\n",
       "      <th>name</th>\n",
       "      <th>email</th>\n",
       "      <th>location</th>\n",
       "      <th>bio</th>\n",
       "      <th>followers</th>\n",
       "      <th>following</th>\n",
       "      <th>public_repos</th>\n",
       "      <th>public_gists</th>\n",
       "      <th>company</th>\n",
       "      <th>blog</th>\n",
       "      <th>created_at</th>\n",
       "      <th>updated_at</th>\n",
       "      <th>hireable</th>\n",
       "      <th>type</th>\n",
       "      <th>site_admin</th>\n",
       "      <th>github_id</th>\n",
       "      <th>node_id</th>\n",
       "    </tr>\n",
       "    <tr>\n",
       "      <th>id</th>\n",
       "      <th></th>\n",
       "      <th></th>\n",
       "      <th></th>\n",
       "      <th></th>\n",
       "      <th></th>\n",
       "      <th></th>\n",
       "      <th></th>\n",
       "      <th></th>\n",
       "      <th></th>\n",
       "      <th></th>\n",
       "      <th></th>\n",
       "      <th></th>\n",
       "      <th></th>\n",
       "      <th></th>\n",
       "      <th></th>\n",
       "      <th></th>\n",
       "      <th></th>\n",
       "      <th></th>\n",
       "      <th></th>\n",
       "      <th></th>\n",
       "    </tr>\n",
       "  </thead>\n",
       "  <tbody>\n",
       "    <tr>\n",
       "      <th>48</th>\n",
       "      <td>1</td>\n",
       "      <td>1</td>\n",
       "      <td>inayelle-arts</td>\n",
       "      <td>inayelle_arts</td>\n",
       "      <td>None</td>\n",
       "      <td>Ukraine</td>\n",
       "      <td>universal keklol developer</td>\n",
       "      <td>7</td>\n",
       "      <td>0</td>\n",
       "      <td>22</td>\n",
       "      <td>0</td>\n",
       "      <td>None</td>\n",
       "      <td>qwe</td>\n",
       "      <td>2015-11-26T14:36:38Z</td>\n",
       "      <td>2018-06-09T14:56:42Z</td>\n",
       "      <td>None</td>\n",
       "      <td>User</td>\n",
       "      <td>0</td>\n",
       "      <td>None</td>\n",
       "      <td>MDQ6VXNlcjE2MDM0NDcw</td>\n",
       "    </tr>\n",
       "    <tr>\n",
       "      <th>163</th>\n",
       "      <td>1</td>\n",
       "      <td>1</td>\n",
       "      <td>AlexeyBatin</td>\n",
       "      <td>Alexey</td>\n",
       "      <td>None</td>\n",
       "      <td>Kiev</td>\n",
       "      <td>KPI student</td>\n",
       "      <td>4</td>\n",
       "      <td>5</td>\n",
       "      <td>7</td>\n",
       "      <td>1</td>\n",
       "      <td>None</td>\n",
       "      <td></td>\n",
       "      <td>2016-11-06T19:05:02Z</td>\n",
       "      <td>2018-06-06T11:06:10Z</td>\n",
       "      <td>None</td>\n",
       "      <td>User</td>\n",
       "      <td>0</td>\n",
       "      <td>None</td>\n",
       "      <td>MDQ6VXNlcjIzMjk4MzY0</td>\n",
       "    </tr>\n",
       "    <tr>\n",
       "      <th>164</th>\n",
       "      <td>1</td>\n",
       "      <td>1</td>\n",
       "      <td>ArtAleksey</td>\n",
       "      <td>Oleksiy</td>\n",
       "      <td>None</td>\n",
       "      <td>Kyiv, Ukraine</td>\n",
       "      <td>programming&lt;3</td>\n",
       "      <td>2</td>\n",
       "      <td>4</td>\n",
       "      <td>3</td>\n",
       "      <td>0</td>\n",
       "      <td>None</td>\n",
       "      <td></td>\n",
       "      <td>2017-11-09T21:44:07Z</td>\n",
       "      <td>2018-04-15T15:22:15Z</td>\n",
       "      <td>None</td>\n",
       "      <td>User</td>\n",
       "      <td>0</td>\n",
       "      <td>None</td>\n",
       "      <td>MDQ6VXNlcjMzNTMwMTYx</td>\n",
       "    </tr>\n",
       "    <tr>\n",
       "      <th>165</th>\n",
       "      <td>1</td>\n",
       "      <td>1</td>\n",
       "      <td>OlhaPokhvalenna</td>\n",
       "      <td>Olha Pokhvalenna</td>\n",
       "      <td>None</td>\n",
       "      <td>Kiev, Ukraine</td>\n",
       "      <td>Using things I don't need.</td>\n",
       "      <td>6</td>\n",
       "      <td>7</td>\n",
       "      <td>5</td>\n",
       "      <td>0</td>\n",
       "      <td>None</td>\n",
       "      <td></td>\n",
       "      <td>2017-10-04T13:18:16Z</td>\n",
       "      <td>2018-06-03T17:21:10Z</td>\n",
       "      <td>None</td>\n",
       "      <td>User</td>\n",
       "      <td>0</td>\n",
       "      <td>None</td>\n",
       "      <td>MDQ6VXNlcjMyNTE1Njg3</td>\n",
       "    </tr>\n",
       "    <tr>\n",
       "      <th>166</th>\n",
       "      <td>1</td>\n",
       "      <td>1</td>\n",
       "      <td>oxyyyyy</td>\n",
       "      <td>Alexandr Vlasenko</td>\n",
       "      <td>olexandr.vlasenko@gmail.com</td>\n",
       "      <td>Kiev</td>\n",
       "      <td>Front-end developer.\\r\\nUkraine, Kiev.\\r\\n\\r\\n...</td>\n",
       "      <td>6</td>\n",
       "      <td>8</td>\n",
       "      <td>39</td>\n",
       "      <td>5</td>\n",
       "      <td>Pro Group Consult</td>\n",
       "      <td>http://a-vlasenko.zzz.com.ua/</td>\n",
       "      <td>2016-02-18T17:57:36Z</td>\n",
       "      <td>2018-05-11T17:48:24Z</td>\n",
       "      <td>1</td>\n",
       "      <td>User</td>\n",
       "      <td>0</td>\n",
       "      <td>None</td>\n",
       "      <td>MDQ6VXNlcjE3MzIwODE2</td>\n",
       "    </tr>\n",
       "  </tbody>\n",
       "</table>\n",
       "</div>"
      ],
      "text/plain": [
       "     parsed  fromUA            login               name  \\\n",
       "id                                                        \n",
       "48        1       1    inayelle-arts      inayelle_arts   \n",
       "163       1       1      AlexeyBatin             Alexey   \n",
       "164       1       1       ArtAleksey            Oleksiy   \n",
       "165       1       1  OlhaPokhvalenna   Olha Pokhvalenna   \n",
       "166       1       1          oxyyyyy  Alexandr Vlasenko   \n",
       "\n",
       "                           email       location  \\\n",
       "id                                                \n",
       "48                          None        Ukraine   \n",
       "163                         None           Kiev   \n",
       "164                         None  Kyiv, Ukraine   \n",
       "165                         None  Kiev, Ukraine   \n",
       "166  olexandr.vlasenko@gmail.com           Kiev   \n",
       "\n",
       "                                                   bio  followers  following  \\\n",
       "id                                                                             \n",
       "48                          universal keklol developer          7          0   \n",
       "163                                       KPI student           4          5   \n",
       "164                                      programming<3          2          4   \n",
       "165                         Using things I don't need.          6          7   \n",
       "166  Front-end developer.\\r\\nUkraine, Kiev.\\r\\n\\r\\n...          6          8   \n",
       "\n",
       "     public_repos  public_gists            company  \\\n",
       "id                                                   \n",
       "48             22             0               None   \n",
       "163             7             1               None   \n",
       "164             3             0               None   \n",
       "165             5             0               None   \n",
       "166            39             5  Pro Group Consult   \n",
       "\n",
       "                              blog            created_at  \\\n",
       "id                                                         \n",
       "48                             qwe  2015-11-26T14:36:38Z   \n",
       "163                                 2016-11-06T19:05:02Z   \n",
       "164                                 2017-11-09T21:44:07Z   \n",
       "165                                 2017-10-04T13:18:16Z   \n",
       "166  http://a-vlasenko.zzz.com.ua/  2016-02-18T17:57:36Z   \n",
       "\n",
       "               updated_at hireable  type site_admin github_id  \\\n",
       "id                                                              \n",
       "48   2018-06-09T14:56:42Z     None  User          0      None   \n",
       "163  2018-06-06T11:06:10Z     None  User          0      None   \n",
       "164  2018-04-15T15:22:15Z     None  User          0      None   \n",
       "165  2018-06-03T17:21:10Z     None  User          0      None   \n",
       "166  2018-05-11T17:48:24Z        1  User          0      None   \n",
       "\n",
       "                  node_id  \n",
       "id                         \n",
       "48   MDQ6VXNlcjE2MDM0NDcw  \n",
       "163  MDQ6VXNlcjIzMjk4MzY0  \n",
       "164  MDQ6VXNlcjMzNTMwMTYx  \n",
       "165  MDQ6VXNlcjMyNTE1Njg3  \n",
       "166  MDQ6VXNlcjE3MzIwODE2  "
      ]
     },
     "execution_count": 5,
     "metadata": {},
     "output_type": "execute_result"
    }
   ],
   "source": [
    "df.head()"
   ]
  },
  {
   "cell_type": "code",
   "execution_count": 6,
   "metadata": {
    "scrolled": false
   },
   "outputs": [
    {
     "name": "stdout",
     "output_type": "stream",
     "text": [
      "<class 'pandas.core.frame.DataFrame'>\n",
      "Int64Index: 83120 entries, 48 to 102225\n",
      "Data columns (total 20 columns):\n",
      "parsed          83120 non-null int64\n",
      "fromUA          83120 non-null int64\n",
      "login           83120 non-null object\n",
      "name            66673 non-null object\n",
      "email           33130 non-null object\n",
      "location        50441 non-null object\n",
      "bio             23918 non-null object\n",
      "followers       83120 non-null int64\n",
      "following       83120 non-null int64\n",
      "public_repos    83120 non-null int64\n",
      "public_gists    83120 non-null int64\n",
      "company         31576 non-null object\n",
      "blog            83120 non-null object\n",
      "created_at      83120 non-null object\n",
      "updated_at      83120 non-null object\n",
      "hireable        18998 non-null object\n",
      "type            83120 non-null object\n",
      "site_admin      83120 non-null object\n",
      "github_id       0 non-null object\n",
      "node_id         83120 non-null object\n",
      "dtypes: int64(6), object(14)\n",
      "memory usage: 13.3+ MB\n"
     ]
    }
   ],
   "source": [
    "df.info()"
   ]
  },
  {
   "cell_type": "code",
   "execution_count": 7,
   "metadata": {
    "scrolled": false
   },
   "outputs": [
    {
     "data": {
      "text/html": [
       "<div>\n",
       "<style scoped>\n",
       "    .dataframe tbody tr th:only-of-type {\n",
       "        vertical-align: middle;\n",
       "    }\n",
       "\n",
       "    .dataframe tbody tr th {\n",
       "        vertical-align: top;\n",
       "    }\n",
       "\n",
       "    .dataframe thead th {\n",
       "        text-align: right;\n",
       "    }\n",
       "</style>\n",
       "<table border=\"1\" class=\"dataframe\">\n",
       "  <thead>\n",
       "    <tr style=\"text-align: right;\">\n",
       "      <th></th>\n",
       "      <th>parsed</th>\n",
       "      <th>fromUA</th>\n",
       "      <th>followers</th>\n",
       "      <th>following</th>\n",
       "      <th>public_repos</th>\n",
       "      <th>public_gists</th>\n",
       "    </tr>\n",
       "  </thead>\n",
       "  <tbody>\n",
       "    <tr>\n",
       "      <th>count</th>\n",
       "      <td>83120.000000</td>\n",
       "      <td>83120.000000</td>\n",
       "      <td>83120.000000</td>\n",
       "      <td>83120.000000</td>\n",
       "      <td>83120.000000</td>\n",
       "      <td>83120.000000</td>\n",
       "    </tr>\n",
       "    <tr>\n",
       "      <th>mean</th>\n",
       "      <td>0.113138</td>\n",
       "      <td>0.113138</td>\n",
       "      <td>81.442012</td>\n",
       "      <td>66.983566</td>\n",
       "      <td>37.660611</td>\n",
       "      <td>13.054307</td>\n",
       "    </tr>\n",
       "    <tr>\n",
       "      <th>std</th>\n",
       "      <td>0.316763</td>\n",
       "      <td>0.316763</td>\n",
       "      <td>608.326794</td>\n",
       "      <td>1636.302019</td>\n",
       "      <td>153.682446</td>\n",
       "      <td>917.713589</td>\n",
       "    </tr>\n",
       "    <tr>\n",
       "      <th>min</th>\n",
       "      <td>0.000000</td>\n",
       "      <td>0.000000</td>\n",
       "      <td>0.000000</td>\n",
       "      <td>0.000000</td>\n",
       "      <td>0.000000</td>\n",
       "      <td>0.000000</td>\n",
       "    </tr>\n",
       "    <tr>\n",
       "      <th>25%</th>\n",
       "      <td>0.000000</td>\n",
       "      <td>0.000000</td>\n",
       "      <td>2.000000</td>\n",
       "      <td>1.000000</td>\n",
       "      <td>4.000000</td>\n",
       "      <td>0.000000</td>\n",
       "    </tr>\n",
       "    <tr>\n",
       "      <th>50%</th>\n",
       "      <td>0.000000</td>\n",
       "      <td>0.000000</td>\n",
       "      <td>7.000000</td>\n",
       "      <td>6.000000</td>\n",
       "      <td>13.000000</td>\n",
       "      <td>0.000000</td>\n",
       "    </tr>\n",
       "    <tr>\n",
       "      <th>75%</th>\n",
       "      <td>0.000000</td>\n",
       "      <td>0.000000</td>\n",
       "      <td>33.000000</td>\n",
       "      <td>25.000000</td>\n",
       "      <td>36.000000</td>\n",
       "      <td>6.000000</td>\n",
       "    </tr>\n",
       "    <tr>\n",
       "      <th>max</th>\n",
       "      <td>1.000000</td>\n",
       "      <td>1.000000</td>\n",
       "      <td>74510.000000</td>\n",
       "      <td>298448.000000</td>\n",
       "      <td>18176.000000</td>\n",
       "      <td>264054.000000</td>\n",
       "    </tr>\n",
       "  </tbody>\n",
       "</table>\n",
       "</div>"
      ],
      "text/plain": [
       "             parsed        fromUA     followers      following  public_repos  \\\n",
       "count  83120.000000  83120.000000  83120.000000   83120.000000  83120.000000   \n",
       "mean       0.113138      0.113138     81.442012      66.983566     37.660611   \n",
       "std        0.316763      0.316763    608.326794    1636.302019    153.682446   \n",
       "min        0.000000      0.000000      0.000000       0.000000      0.000000   \n",
       "25%        0.000000      0.000000      2.000000       1.000000      4.000000   \n",
       "50%        0.000000      0.000000      7.000000       6.000000     13.000000   \n",
       "75%        0.000000      0.000000     33.000000      25.000000     36.000000   \n",
       "max        1.000000      1.000000  74510.000000  298448.000000  18176.000000   \n",
       "\n",
       "        public_gists  \n",
       "count   83120.000000  \n",
       "mean       13.054307  \n",
       "std       917.713589  \n",
       "min         0.000000  \n",
       "25%         0.000000  \n",
       "50%         0.000000  \n",
       "75%         6.000000  \n",
       "max    264054.000000  "
      ]
     },
     "execution_count": 7,
     "metadata": {},
     "output_type": "execute_result"
    }
   ],
   "source": [
    "df.describe()"
   ]
  },
  {
   "cell_type": "code",
   "execution_count": 8,
   "metadata": {
    "scrolled": true
   },
   "outputs": [
    {
     "data": {
      "text/html": [
       "<div>\n",
       "<style scoped>\n",
       "    .dataframe tbody tr th:only-of-type {\n",
       "        vertical-align: middle;\n",
       "    }\n",
       "\n",
       "    .dataframe tbody tr th {\n",
       "        vertical-align: top;\n",
       "    }\n",
       "\n",
       "    .dataframe thead th {\n",
       "        text-align: right;\n",
       "    }\n",
       "</style>\n",
       "<table border=\"1\" class=\"dataframe\">\n",
       "  <thead>\n",
       "    <tr style=\"text-align: right;\">\n",
       "      <th></th>\n",
       "      <th>login</th>\n",
       "      <th>name</th>\n",
       "      <th>email</th>\n",
       "      <th>location</th>\n",
       "      <th>bio</th>\n",
       "      <th>company</th>\n",
       "      <th>blog</th>\n",
       "      <th>created_at</th>\n",
       "      <th>updated_at</th>\n",
       "      <th>hireable</th>\n",
       "      <th>type</th>\n",
       "      <th>site_admin</th>\n",
       "      <th>github_id</th>\n",
       "      <th>node_id</th>\n",
       "    </tr>\n",
       "  </thead>\n",
       "  <tbody>\n",
       "    <tr>\n",
       "      <th>count</th>\n",
       "      <td>83120</td>\n",
       "      <td>66673</td>\n",
       "      <td>33130</td>\n",
       "      <td>50441</td>\n",
       "      <td>23918</td>\n",
       "      <td>31576</td>\n",
       "      <td>83120</td>\n",
       "      <td>83120</td>\n",
       "      <td>83120</td>\n",
       "      <td>18998</td>\n",
       "      <td>83120</td>\n",
       "      <td>83120</td>\n",
       "      <td>0.0</td>\n",
       "      <td>83120</td>\n",
       "    </tr>\n",
       "    <tr>\n",
       "      <th>unique</th>\n",
       "      <td>83120</td>\n",
       "      <td>60731</td>\n",
       "      <td>33120</td>\n",
       "      <td>10812</td>\n",
       "      <td>22216</td>\n",
       "      <td>21956</td>\n",
       "      <td>33393</td>\n",
       "      <td>83104</td>\n",
       "      <td>81594</td>\n",
       "      <td>1</td>\n",
       "      <td>2</td>\n",
       "      <td>2</td>\n",
       "      <td>0.0</td>\n",
       "      <td>83120</td>\n",
       "    </tr>\n",
       "    <tr>\n",
       "      <th>top</th>\n",
       "      <td>Grandrogue</td>\n",
       "      <td>Alex</td>\n",
       "      <td>imyandy@gmail.com</td>\n",
       "      <td>Ukraine</td>\n",
       "      <td>Software Engineer</td>\n",
       "      <td>Microsoft</td>\n",
       "      <td></td>\n",
       "      <td>2017-09-04T16:51:54Z</td>\n",
       "      <td>2017-08-14T19:41:31Z</td>\n",
       "      <td>1</td>\n",
       "      <td>User</td>\n",
       "      <td>0</td>\n",
       "      <td>NaN</td>\n",
       "      <td>MDQ6VXNlcjE0OTg1MjEx</td>\n",
       "    </tr>\n",
       "    <tr>\n",
       "      <th>freq</th>\n",
       "      <td>1</td>\n",
       "      <td>174</td>\n",
       "      <td>2</td>\n",
       "      <td>2370</td>\n",
       "      <td>112</td>\n",
       "      <td>2162</td>\n",
       "      <td>49541</td>\n",
       "      <td>2</td>\n",
       "      <td>10</td>\n",
       "      <td>18998</td>\n",
       "      <td>83113</td>\n",
       "      <td>83025</td>\n",
       "      <td>NaN</td>\n",
       "      <td>1</td>\n",
       "    </tr>\n",
       "  </tbody>\n",
       "</table>\n",
       "</div>"
      ],
      "text/plain": [
       "             login   name              email location                bio  \\\n",
       "count        83120  66673              33130    50441              23918   \n",
       "unique       83120  60731              33120    10812              22216   \n",
       "top     Grandrogue   Alex  imyandy@gmail.com  Ukraine  Software Engineer   \n",
       "freq             1    174                  2     2370                112   \n",
       "\n",
       "          company   blog            created_at            updated_at hireable  \\\n",
       "count       31576  83120                 83120                 83120    18998   \n",
       "unique      21956  33393                 83104                 81594        1   \n",
       "top     Microsoft         2017-09-04T16:51:54Z  2017-08-14T19:41:31Z        1   \n",
       "freq         2162  49541                     2                    10    18998   \n",
       "\n",
       "         type site_admin  github_id               node_id  \n",
       "count   83120      83120        0.0                 83120  \n",
       "unique      2          2        0.0                 83120  \n",
       "top      User          0        NaN  MDQ6VXNlcjE0OTg1MjEx  \n",
       "freq    83113      83025        NaN                     1  "
      ]
     },
     "execution_count": 8,
     "metadata": {},
     "output_type": "execute_result"
    }
   ],
   "source": [
    "df.describe(exclude = np.number)"
   ]
  },
  {
   "cell_type": "markdown",
   "metadata": {},
   "source": [
    "### Simple cleaning"
   ]
  },
  {
   "cell_type": "markdown",
   "metadata": {},
   "source": [
    "Delete column with system info (`parsed` was created for parsing purpose and `github_id`, `node_id` are useless columns)"
   ]
  },
  {
   "cell_type": "code",
   "execution_count": 9,
   "metadata": {},
   "outputs": [],
   "source": [
    "df.drop(['parsed', 'github_id', 'node_id'], axis=1, inplace=True)"
   ]
  },
  {
   "cell_type": "markdown",
   "metadata": {},
   "source": [
    "Lets look at column `type`"
   ]
  },
  {
   "cell_type": "code",
   "execution_count": 10,
   "metadata": {},
   "outputs": [
    {
     "data": {
      "text/plain": [
       "type\n",
       "Organization        7\n",
       "User            83113\n",
       "Name: login, dtype: int64"
      ]
     },
     "execution_count": 10,
     "metadata": {},
     "output_type": "execute_result"
    }
   ],
   "source": [
    "df.groupby('type')['login'].nunique()"
   ]
  },
  {
   "cell_type": "markdown",
   "metadata": {},
   "source": [
    "Get all organizations"
   ]
  },
  {
   "cell_type": "code",
   "execution_count": 11,
   "metadata": {
    "scrolled": false
   },
   "outputs": [
    {
     "data": {
      "text/html": [
       "<div>\n",
       "<style scoped>\n",
       "    .dataframe tbody tr th:only-of-type {\n",
       "        vertical-align: middle;\n",
       "    }\n",
       "\n",
       "    .dataframe tbody tr th {\n",
       "        vertical-align: top;\n",
       "    }\n",
       "\n",
       "    .dataframe thead th {\n",
       "        text-align: right;\n",
       "    }\n",
       "</style>\n",
       "<table border=\"1\" class=\"dataframe\">\n",
       "  <thead>\n",
       "    <tr style=\"text-align: right;\">\n",
       "      <th></th>\n",
       "      <th>fromUA</th>\n",
       "      <th>login</th>\n",
       "      <th>name</th>\n",
       "      <th>email</th>\n",
       "      <th>location</th>\n",
       "      <th>bio</th>\n",
       "      <th>followers</th>\n",
       "      <th>following</th>\n",
       "      <th>public_repos</th>\n",
       "      <th>public_gists</th>\n",
       "      <th>company</th>\n",
       "      <th>blog</th>\n",
       "      <th>created_at</th>\n",
       "      <th>updated_at</th>\n",
       "      <th>hireable</th>\n",
       "      <th>type</th>\n",
       "      <th>site_admin</th>\n",
       "    </tr>\n",
       "    <tr>\n",
       "      <th>id</th>\n",
       "      <th></th>\n",
       "      <th></th>\n",
       "      <th></th>\n",
       "      <th></th>\n",
       "      <th></th>\n",
       "      <th></th>\n",
       "      <th></th>\n",
       "      <th></th>\n",
       "      <th></th>\n",
       "      <th></th>\n",
       "      <th></th>\n",
       "      <th></th>\n",
       "      <th></th>\n",
       "      <th></th>\n",
       "      <th></th>\n",
       "      <th></th>\n",
       "      <th></th>\n",
       "    </tr>\n",
       "  </thead>\n",
       "  <tbody>\n",
       "    <tr>\n",
       "      <th>27536</th>\n",
       "      <td>0</td>\n",
       "      <td>opengovernment</td>\n",
       "      <td>OpenGovernment</td>\n",
       "      <td>support@askthem.io</td>\n",
       "      <td>NYC</td>\n",
       "      <td>None</td>\n",
       "      <td>0</td>\n",
       "      <td>0</td>\n",
       "      <td>20</td>\n",
       "      <td>0</td>\n",
       "      <td>None</td>\n",
       "      <td>http://opengovernment.org</td>\n",
       "      <td>2010-03-16T23:59:32Z</td>\n",
       "      <td>2018-05-23T04:10:26Z</td>\n",
       "      <td>None</td>\n",
       "      <td>Organization</td>\n",
       "      <td>0</td>\n",
       "    </tr>\n",
       "    <tr>\n",
       "      <th>37358</th>\n",
       "      <td>0</td>\n",
       "      <td>Glimpse</td>\n",
       "      <td>Glimpse</td>\n",
       "      <td>nikmd23@gmail.com</td>\n",
       "      <td>None</td>\n",
       "      <td>The open source diagnostics platform for the web</td>\n",
       "      <td>0</td>\n",
       "      <td>0</td>\n",
       "      <td>10</td>\n",
       "      <td>0</td>\n",
       "      <td>None</td>\n",
       "      <td>getGlimpse.com</td>\n",
       "      <td>2011-01-27T04:46:22Z</td>\n",
       "      <td>2017-12-04T16:10:38Z</td>\n",
       "      <td>None</td>\n",
       "      <td>Organization</td>\n",
       "      <td>0</td>\n",
       "    </tr>\n",
       "    <tr>\n",
       "      <th>42678</th>\n",
       "      <td>0</td>\n",
       "      <td>activescaffold</td>\n",
       "      <td>None</td>\n",
       "      <td>None</td>\n",
       "      <td>None</td>\n",
       "      <td>None</td>\n",
       "      <td>0</td>\n",
       "      <td>0</td>\n",
       "      <td>13</td>\n",
       "      <td>0</td>\n",
       "      <td>None</td>\n",
       "      <td></td>\n",
       "      <td>2008-05-21T17:47:27Z</td>\n",
       "      <td>2016-02-26T22:36:04Z</td>\n",
       "      <td>None</td>\n",
       "      <td>Organization</td>\n",
       "      <td>0</td>\n",
       "    </tr>\n",
       "    <tr>\n",
       "      <th>44509</th>\n",
       "      <td>0</td>\n",
       "      <td>LUKKIEN</td>\n",
       "      <td>Lukkien</td>\n",
       "      <td>None</td>\n",
       "      <td>Ede, The Netherlands</td>\n",
       "      <td>Think | Create | Connect</td>\n",
       "      <td>0</td>\n",
       "      <td>0</td>\n",
       "      <td>25</td>\n",
       "      <td>0</td>\n",
       "      <td>None</td>\n",
       "      <td>http://www.lukkien.com/</td>\n",
       "      <td>2009-08-28T13:42:39Z</td>\n",
       "      <td>2018-02-01T09:07:10Z</td>\n",
       "      <td>None</td>\n",
       "      <td>Organization</td>\n",
       "      <td>0</td>\n",
       "    </tr>\n",
       "    <tr>\n",
       "      <th>61029</th>\n",
       "      <td>0</td>\n",
       "      <td>unify</td>\n",
       "      <td>Unify Project</td>\n",
       "      <td>None</td>\n",
       "      <td>Darmstadt, Germany</td>\n",
       "      <td>None</td>\n",
       "      <td>0</td>\n",
       "      <td>0</td>\n",
       "      <td>21</td>\n",
       "      <td>0</td>\n",
       "      <td>None</td>\n",
       "      <td>http://www.unifyjs.com</td>\n",
       "      <td>2010-03-08T11:04:08Z</td>\n",
       "      <td>2015-04-10T08:13:18Z</td>\n",
       "      <td>None</td>\n",
       "      <td>Organization</td>\n",
       "      <td>0</td>\n",
       "    </tr>\n",
       "    <tr>\n",
       "      <th>76426</th>\n",
       "      <td>0</td>\n",
       "      <td>muldis</td>\n",
       "      <td>Muldis Data Systems</td>\n",
       "      <td>None</td>\n",
       "      <td>Victoria, BC, Canada</td>\n",
       "      <td>None</td>\n",
       "      <td>0</td>\n",
       "      <td>0</td>\n",
       "      <td>22</td>\n",
       "      <td>0</td>\n",
       "      <td>None</td>\n",
       "      <td>http://muldis.com</td>\n",
       "      <td>2008-08-23T05:38:08Z</td>\n",
       "      <td>2016-06-02T03:18:07Z</td>\n",
       "      <td>None</td>\n",
       "      <td>Organization</td>\n",
       "      <td>0</td>\n",
       "    </tr>\n",
       "    <tr>\n",
       "      <th>76534</th>\n",
       "      <td>0</td>\n",
       "      <td>rakudo</td>\n",
       "      <td>Rakudo Perl</td>\n",
       "      <td>None</td>\n",
       "      <td>None</td>\n",
       "      <td>None</td>\n",
       "      <td>0</td>\n",
       "      <td>0</td>\n",
       "      <td>2</td>\n",
       "      <td>7</td>\n",
       "      <td>None</td>\n",
       "      <td>http://rakudo.org/</td>\n",
       "      <td>2009-01-15T00:49:41Z</td>\n",
       "      <td>2015-04-27T20:37:13Z</td>\n",
       "      <td>None</td>\n",
       "      <td>Organization</td>\n",
       "      <td>0</td>\n",
       "    </tr>\n",
       "  </tbody>\n",
       "</table>\n",
       "</div>"
      ],
      "text/plain": [
       "       fromUA           login                 name               email  \\\n",
       "id                                                                       \n",
       "27536       0  opengovernment       OpenGovernment  support@askthem.io   \n",
       "37358       0         Glimpse              Glimpse   nikmd23@gmail.com   \n",
       "42678       0  activescaffold                 None                None   \n",
       "44509       0         LUKKIEN              Lukkien                None   \n",
       "61029       0           unify        Unify Project                None   \n",
       "76426       0          muldis  Muldis Data Systems                None   \n",
       "76534       0          rakudo          Rakudo Perl                None   \n",
       "\n",
       "                   location                                               bio  \\\n",
       "id                                                                              \n",
       "27536                   NYC                                              None   \n",
       "37358                  None  The open source diagnostics platform for the web   \n",
       "42678                  None                                              None   \n",
       "44509  Ede, The Netherlands                          Think | Create | Connect   \n",
       "61029    Darmstadt, Germany                                              None   \n",
       "76426  Victoria, BC, Canada                                              None   \n",
       "76534                  None                                              None   \n",
       "\n",
       "       followers  following  public_repos  public_gists company  \\\n",
       "id                                                                \n",
       "27536          0          0            20             0    None   \n",
       "37358          0          0            10             0    None   \n",
       "42678          0          0            13             0    None   \n",
       "44509          0          0            25             0    None   \n",
       "61029          0          0            21             0    None   \n",
       "76426          0          0            22             0    None   \n",
       "76534          0          0             2             7    None   \n",
       "\n",
       "                            blog            created_at            updated_at  \\\n",
       "id                                                                             \n",
       "27536  http://opengovernment.org  2010-03-16T23:59:32Z  2018-05-23T04:10:26Z   \n",
       "37358             getGlimpse.com  2011-01-27T04:46:22Z  2017-12-04T16:10:38Z   \n",
       "42678                             2008-05-21T17:47:27Z  2016-02-26T22:36:04Z   \n",
       "44509    http://www.lukkien.com/  2009-08-28T13:42:39Z  2018-02-01T09:07:10Z   \n",
       "61029     http://www.unifyjs.com  2010-03-08T11:04:08Z  2015-04-10T08:13:18Z   \n",
       "76426          http://muldis.com  2008-08-23T05:38:08Z  2016-06-02T03:18:07Z   \n",
       "76534         http://rakudo.org/  2009-01-15T00:49:41Z  2015-04-27T20:37:13Z   \n",
       "\n",
       "      hireable          type site_admin  \n",
       "id                                       \n",
       "27536     None  Organization          0  \n",
       "37358     None  Organization          0  \n",
       "42678     None  Organization          0  \n",
       "44509     None  Organization          0  \n",
       "61029     None  Organization          0  \n",
       "76426     None  Organization          0  \n",
       "76534     None  Organization          0  "
      ]
     },
     "execution_count": 11,
     "metadata": {},
     "output_type": "execute_result"
    }
   ],
   "source": [
    "df[df['type']!='User']"
   ]
  },
  {
   "cell_type": "markdown",
   "metadata": {},
   "source": [
    "...and drop them, becouse we want only users"
   ]
  },
  {
   "cell_type": "code",
   "execution_count": 12,
   "metadata": {},
   "outputs": [],
   "source": [
    "df = df[df['type']=='User']\n",
    "df.drop(['type'], axis=1, inplace=True)"
   ]
  },
  {
   "cell_type": "code",
   "execution_count": 13,
   "metadata": {
    "scrolled": true
   },
   "outputs": [
    {
     "data": {
      "text/plain": [
       "array(['0', '1'], dtype=object)"
      ]
     },
     "execution_count": 13,
     "metadata": {},
     "output_type": "execute_result"
    }
   ],
   "source": [
    "df['site_admin'].unique()"
   ]
  },
  {
   "cell_type": "markdown",
   "metadata": {},
   "source": [
    "Now let's correct data types"
   ]
  },
  {
   "cell_type": "code",
   "execution_count": 14,
   "metadata": {
    "scrolled": false
   },
   "outputs": [
    {
     "name": "stdout",
     "output_type": "stream",
     "text": [
      "<class 'pandas.core.frame.DataFrame'>\n",
      "Int64Index: 83113 entries, 48 to 102225\n",
      "Data columns (total 16 columns):\n",
      "fromUA          83113 non-null int64\n",
      "login           83113 non-null object\n",
      "name            66667 non-null object\n",
      "email           33128 non-null object\n",
      "location        50437 non-null object\n",
      "bio             23916 non-null object\n",
      "followers       83113 non-null int64\n",
      "following       83113 non-null int64\n",
      "public_repos    83113 non-null int64\n",
      "public_gists    83113 non-null int64\n",
      "company         31576 non-null object\n",
      "blog            83113 non-null object\n",
      "created_at      83113 non-null object\n",
      "updated_at      83113 non-null object\n",
      "hireable        18998 non-null object\n",
      "site_admin      83113 non-null object\n",
      "dtypes: int64(5), object(11)\n",
      "memory usage: 10.8+ MB\n"
     ]
    }
   ],
   "source": [
    "df.info()"
   ]
  },
  {
   "cell_type": "code",
   "execution_count": 15,
   "metadata": {},
   "outputs": [],
   "source": [
    "df['hireable'] = df['hireable'].fillna('0').astype('int64')"
   ]
  },
  {
   "cell_type": "code",
   "execution_count": 16,
   "metadata": {
    "scrolled": true
   },
   "outputs": [
    {
     "data": {
      "text/plain": [
       "hireable\n",
       "0    64115\n",
       "1    18998\n",
       "Name: login, dtype: int64"
      ]
     },
     "execution_count": 16,
     "metadata": {},
     "output_type": "execute_result"
    }
   ],
   "source": [
    "df.groupby('hireable')['login'].nunique()"
   ]
  },
  {
   "cell_type": "code",
   "execution_count": 17,
   "metadata": {},
   "outputs": [],
   "source": [
    "df['site_admin'] = df['site_admin'].astype('int64')"
   ]
  },
  {
   "cell_type": "code",
   "execution_count": 18,
   "metadata": {},
   "outputs": [
    {
     "data": {
      "text/plain": [
       "site_admin\n",
       "0    83018\n",
       "1       95\n",
       "Name: login, dtype: int64"
      ]
     },
     "execution_count": 18,
     "metadata": {},
     "output_type": "execute_result"
    }
   ],
   "source": [
    "df.groupby('site_admin')['login'].nunique()"
   ]
  },
  {
   "cell_type": "code",
   "execution_count": 19,
   "metadata": {},
   "outputs": [
    {
     "name": "stdout",
     "output_type": "stream",
     "text": [
      "<class 'pandas.core.frame.DataFrame'>\n",
      "Int64Index: 83113 entries, 48 to 102225\n",
      "Data columns (total 16 columns):\n",
      "fromUA          83113 non-null int64\n",
      "login           83113 non-null object\n",
      "name            66667 non-null object\n",
      "email           33128 non-null object\n",
      "location        50437 non-null object\n",
      "bio             23916 non-null object\n",
      "followers       83113 non-null int64\n",
      "following       83113 non-null int64\n",
      "public_repos    83113 non-null int64\n",
      "public_gists    83113 non-null int64\n",
      "company         31576 non-null object\n",
      "blog            83113 non-null object\n",
      "created_at      83113 non-null object\n",
      "updated_at      83113 non-null object\n",
      "hireable        83113 non-null int64\n",
      "site_admin      83113 non-null int64\n",
      "dtypes: int64(7), object(9)\n",
      "memory usage: 10.8+ MB\n"
     ]
    }
   ],
   "source": [
    "df.info()"
   ]
  },
  {
   "cell_type": "markdown",
   "metadata": {},
   "source": [
    "### Feature engineering"
   ]
  },
  {
   "cell_type": "markdown",
   "metadata": {},
   "source": [
    "String to datetime"
   ]
  },
  {
   "cell_type": "code",
   "execution_count": 20,
   "metadata": {},
   "outputs": [],
   "source": [
    "df['date_created'] = pd.to_datetime(df['created_at'])\n",
    "df['date_updated'] = pd.to_datetime(df['updated_at'])"
   ]
  },
  {
   "cell_type": "markdown",
   "metadata": {},
   "source": [
    "Let's look at account creation over time"
   ]
  },
  {
   "cell_type": "code",
   "execution_count": 21,
   "metadata": {
    "scrolled": false
   },
   "outputs": [
    {
     "data": {
      "image/png": "[encoded data removed]",
      "text/plain": [
       "<matplotlib.figure.Figure at 0x1b1daab64a8>"
      ]
     },
     "metadata": {},
     "output_type": "display_data"
    }
   ],
   "source": [
    "plt.subplots(figsize=(15, 7))\n",
    "df['date_created'].hist(bins=30)\n",
    "plt.xlabel('Date of account creation')\n",
    "plt.ylabel('Num of created accounts');"
   ]
  },
  {
   "cell_type": "markdown",
   "metadata": {},
   "source": [
    "Monthly account creation by years"
   ]
  },
  {
   "cell_type": "code",
   "execution_count": 22,
   "metadata": {
    "scrolled": false
   },
   "outputs": [
    {
     "data": {
      "image/png": "[encoded data removed]",
      "text/plain": [
       "<matplotlib.figure.Figure at 0x1b1da4c9ba8>"
      ]
     },
     "metadata": {},
     "output_type": "display_data"
    }
   ],
   "source": [
    "years = df['date_created'].map(lambda x: x.year)\n",
    "unique_years = sorted(years.unique())\n",
    "n = len(unique_years)\n",
    "n_c = 3\n",
    "n_r = n//n_c+ (1 if n//n_c * n_c != n else 0)\n",
    "y_max = 1250\n",
    "plt.subplots(n_r, n_c, figsize=(15, 2*n_r))\n",
    "for i, year in enumerate(unique_years):\n",
    "    plt.subplot(n_r, n_c, i+1)\n",
    "    df['date_created'][years == year].map(lambda x: x.month).hist(bins=[i-0.5 for i in range(1, 14)], rwidth=0.8)\n",
    "    plt.ylabel(str(year))\n",
    "    plt.ylim((0,y_max))\n",
    "    plt.xticks(list(range(1, 13)))"
   ]
  },
  {
   "cell_type": "markdown",
   "metadata": {},
   "source": [
    "The same for only Ukrainians"
   ]
  },
  {
   "cell_type": "code",
   "execution_count": 23,
   "metadata": {
    "scrolled": false
   },
   "outputs": [
    {
     "data": {
      "image/png": "[encoded data removed]",
      "text/plain": [
       "<matplotlib.figure.Figure at 0x1b1da025e10>"
      ]
     },
     "metadata": {},
     "output_type": "display_data"
    }
   ],
   "source": [
    "dfu = df[df['fromUA'] == 1]\n",
    "years = sorted(dfu['date_created'].map(lambda x: x.year).unique())\n",
    "n = len(years)\n",
    "n_c = 3\n",
    "n_r = n//n_c+ (1 if n//n_c * n_c != n else 0)\n",
    "y_max = 200\n",
    "plt.subplots(n_r, n_c, figsize=(15, 2*n_r))\n",
    "for i, y in enumerate(years):\n",
    "    plt.subplot(n_r, n_c, i+1)\n",
    "    dfu['date_created'][dfu['date_created'].map(lambda x: x.year) == y].map(lambda x: x.month).hist(bins=[i-0.5 for i in range(1, 14)], rwidth=0.8)\n",
    "    plt.ylabel(str(y))\n",
    "    plt.ylim((0,y_max))\n",
    "    plt.xticks(list(range(1, 13)))\n",
    "plt.xlabel('month');"
   ]
  },
  {
   "cell_type": "markdown",
   "metadata": {},
   "source": [
    "Distribution of #followers, #following, #public_repos"
   ]
  },
  {
   "cell_type": "code",
   "execution_count": 24,
   "metadata": {},
   "outputs": [
    {
     "data": {
      "image/png": "[encoded data removed]",
      "text/plain": [
       "<matplotlib.figure.Figure at 0x1b1db7e0ef0>"
      ]
     },
     "metadata": {},
     "output_type": "display_data"
    }
   ],
   "source": [
    "plt.figure(figsize=(15, 7))\n",
    "df.followers.hist(log=True, bins=80);"
   ]
  },
  {
   "cell_type": "code",
   "execution_count": 25,
   "metadata": {},
   "outputs": [
    {
     "data": {
      "image/png": "[encoded data removed]",
      "text/plain": [
       "<matplotlib.figure.Figure at 0x1b1db7e0240>"
      ]
     },
     "metadata": {},
     "output_type": "display_data"
    }
   ],
   "source": [
    "plt.figure(figsize=(15, 7))\n",
    "df.following.hist(log=True, bins=80);"
   ]
  },
  {
   "cell_type": "code",
   "execution_count": 26,
   "metadata": {},
   "outputs": [
    {
     "data": {
      "image/png": "[encoded data removed]",
      "text/plain": [
       "<matplotlib.figure.Figure at 0x1b1dd6be7f0>"
      ]
     },
     "metadata": {},
     "output_type": "display_data"
    }
   ],
   "source": [
    "plt.figure(figsize=(15, 7))\n",
    "df.public_repos.hist(log=True, bins=80);"
   ]
  },
  {
   "cell_type": "markdown",
   "metadata": {},
   "source": [
    "Description of numerical data"
   ]
  },
  {
   "cell_type": "code",
   "execution_count": 27,
   "metadata": {
    "scrolled": false
   },
   "outputs": [
    {
     "data": {
      "text/html": [
       "<div>\n",
       "<style scoped>\n",
       "    .dataframe tbody tr th:only-of-type {\n",
       "        vertical-align: middle;\n",
       "    }\n",
       "\n",
       "    .dataframe tbody tr th {\n",
       "        vertical-align: top;\n",
       "    }\n",
       "\n",
       "    .dataframe thead th {\n",
       "        text-align: right;\n",
       "    }\n",
       "</style>\n",
       "<table border=\"1\" class=\"dataframe\">\n",
       "  <thead>\n",
       "    <tr style=\"text-align: right;\">\n",
       "      <th></th>\n",
       "      <th>fromUA</th>\n",
       "      <th>followers</th>\n",
       "      <th>following</th>\n",
       "      <th>public_repos</th>\n",
       "      <th>public_gists</th>\n",
       "      <th>hireable</th>\n",
       "      <th>site_admin</th>\n",
       "    </tr>\n",
       "  </thead>\n",
       "  <tbody>\n",
       "    <tr>\n",
       "      <th>count</th>\n",
       "      <td>83113.000000</td>\n",
       "      <td>83113.000000</td>\n",
       "      <td>83113.000000</td>\n",
       "      <td>83113.000000</td>\n",
       "      <td>83113.000000</td>\n",
       "      <td>83113.000000</td>\n",
       "      <td>83113.000000</td>\n",
       "    </tr>\n",
       "    <tr>\n",
       "      <th>mean</th>\n",
       "      <td>0.113147</td>\n",
       "      <td>81.448871</td>\n",
       "      <td>66.989207</td>\n",
       "      <td>37.662423</td>\n",
       "      <td>13.055322</td>\n",
       "      <td>0.228580</td>\n",
       "      <td>0.001143</td>\n",
       "    </tr>\n",
       "    <tr>\n",
       "      <th>std</th>\n",
       "      <td>0.316775</td>\n",
       "      <td>608.351952</td>\n",
       "      <td>1636.370810</td>\n",
       "      <td>153.688775</td>\n",
       "      <td>917.752228</td>\n",
       "      <td>0.419921</td>\n",
       "      <td>0.033789</td>\n",
       "    </tr>\n",
       "    <tr>\n",
       "      <th>min</th>\n",
       "      <td>0.000000</td>\n",
       "      <td>0.000000</td>\n",
       "      <td>0.000000</td>\n",
       "      <td>0.000000</td>\n",
       "      <td>0.000000</td>\n",
       "      <td>0.000000</td>\n",
       "      <td>0.000000</td>\n",
       "    </tr>\n",
       "    <tr>\n",
       "      <th>25%</th>\n",
       "      <td>0.000000</td>\n",
       "      <td>2.000000</td>\n",
       "      <td>1.000000</td>\n",
       "      <td>4.000000</td>\n",
       "      <td>0.000000</td>\n",
       "      <td>0.000000</td>\n",
       "      <td>0.000000</td>\n",
       "    </tr>\n",
       "    <tr>\n",
       "      <th>50%</th>\n",
       "      <td>0.000000</td>\n",
       "      <td>7.000000</td>\n",
       "      <td>6.000000</td>\n",
       "      <td>13.000000</td>\n",
       "      <td>0.000000</td>\n",
       "      <td>0.000000</td>\n",
       "      <td>0.000000</td>\n",
       "    </tr>\n",
       "    <tr>\n",
       "      <th>75%</th>\n",
       "      <td>0.000000</td>\n",
       "      <td>33.000000</td>\n",
       "      <td>25.000000</td>\n",
       "      <td>36.000000</td>\n",
       "      <td>6.000000</td>\n",
       "      <td>0.000000</td>\n",
       "      <td>0.000000</td>\n",
       "    </tr>\n",
       "    <tr>\n",
       "      <th>max</th>\n",
       "      <td>1.000000</td>\n",
       "      <td>74510.000000</td>\n",
       "      <td>298448.000000</td>\n",
       "      <td>18176.000000</td>\n",
       "      <td>264054.000000</td>\n",
       "      <td>1.000000</td>\n",
       "      <td>1.000000</td>\n",
       "    </tr>\n",
       "  </tbody>\n",
       "</table>\n",
       "</div>"
      ],
      "text/plain": [
       "             fromUA     followers      following  public_repos   public_gists  \\\n",
       "count  83113.000000  83113.000000   83113.000000  83113.000000   83113.000000   \n",
       "mean       0.113147     81.448871      66.989207     37.662423      13.055322   \n",
       "std        0.316775    608.351952    1636.370810    153.688775     917.752228   \n",
       "min        0.000000      0.000000       0.000000      0.000000       0.000000   \n",
       "25%        0.000000      2.000000       1.000000      4.000000       0.000000   \n",
       "50%        0.000000      7.000000       6.000000     13.000000       0.000000   \n",
       "75%        0.000000     33.000000      25.000000     36.000000       6.000000   \n",
       "max        1.000000  74510.000000  298448.000000  18176.000000  264054.000000   \n",
       "\n",
       "           hireable    site_admin  \n",
       "count  83113.000000  83113.000000  \n",
       "mean       0.228580      0.001143  \n",
       "std        0.419921      0.033789  \n",
       "min        0.000000      0.000000  \n",
       "25%        0.000000      0.000000  \n",
       "50%        0.000000      0.000000  \n",
       "75%        0.000000      0.000000  \n",
       "max        1.000000      1.000000  "
      ]
     },
     "execution_count": 27,
     "metadata": {},
     "output_type": "execute_result"
    }
   ],
   "source": [
    "df.describe()"
   ]
  },
  {
   "cell_type": "markdown",
   "metadata": {},
   "source": [
    "Description of text/categorical data"
   ]
  },
  {
   "cell_type": "code",
   "execution_count": 28,
   "metadata": {
    "scrolled": true
   },
   "outputs": [
    {
     "data": {
      "text/html": [
       "<div>\n",
       "<style scoped>\n",
       "    .dataframe tbody tr th:only-of-type {\n",
       "        vertical-align: middle;\n",
       "    }\n",
       "\n",
       "    .dataframe tbody tr th {\n",
       "        vertical-align: top;\n",
       "    }\n",
       "\n",
       "    .dataframe thead th {\n",
       "        text-align: right;\n",
       "    }\n",
       "</style>\n",
       "<table border=\"1\" class=\"dataframe\">\n",
       "  <thead>\n",
       "    <tr style=\"text-align: right;\">\n",
       "      <th></th>\n",
       "      <th>login</th>\n",
       "      <th>name</th>\n",
       "      <th>email</th>\n",
       "      <th>location</th>\n",
       "      <th>bio</th>\n",
       "      <th>company</th>\n",
       "      <th>blog</th>\n",
       "      <th>date_created</th>\n",
       "      <th>date_updated</th>\n",
       "    </tr>\n",
       "  </thead>\n",
       "  <tbody>\n",
       "    <tr>\n",
       "      <th>count</th>\n",
       "      <td>83113</td>\n",
       "      <td>66667</td>\n",
       "      <td>33128</td>\n",
       "      <td>50437</td>\n",
       "      <td>23916</td>\n",
       "      <td>31576</td>\n",
       "      <td>83113</td>\n",
       "      <td>83113</td>\n",
       "      <td>83113</td>\n",
       "    </tr>\n",
       "    <tr>\n",
       "      <th>unique</th>\n",
       "      <td>83113</td>\n",
       "      <td>60725</td>\n",
       "      <td>33118</td>\n",
       "      <td>10811</td>\n",
       "      <td>22214</td>\n",
       "      <td>21956</td>\n",
       "      <td>33387</td>\n",
       "      <td>83097</td>\n",
       "      <td>81588</td>\n",
       "    </tr>\n",
       "    <tr>\n",
       "      <th>top</th>\n",
       "      <td>Grandrogue</td>\n",
       "      <td>Alex</td>\n",
       "      <td>evgenia.rudoman@gmail.com</td>\n",
       "      <td>Ukraine</td>\n",
       "      <td>Software Engineer</td>\n",
       "      <td>Microsoft</td>\n",
       "      <td></td>\n",
       "      <td>2017-09-04 16:51:54</td>\n",
       "      <td>2017-08-14 19:41:31</td>\n",
       "    </tr>\n",
       "    <tr>\n",
       "      <th>freq</th>\n",
       "      <td>1</td>\n",
       "      <td>174</td>\n",
       "      <td>2</td>\n",
       "      <td>2370</td>\n",
       "      <td>112</td>\n",
       "      <td>2162</td>\n",
       "      <td>49540</td>\n",
       "      <td>2</td>\n",
       "      <td>10</td>\n",
       "    </tr>\n",
       "    <tr>\n",
       "      <th>first</th>\n",
       "      <td>NaN</td>\n",
       "      <td>NaN</td>\n",
       "      <td>NaN</td>\n",
       "      <td>NaN</td>\n",
       "      <td>NaN</td>\n",
       "      <td>NaN</td>\n",
       "      <td>NaN</td>\n",
       "      <td>2007-10-20 05:24:19</td>\n",
       "      <td>2012-11-23 21:43:22</td>\n",
       "    </tr>\n",
       "    <tr>\n",
       "      <th>last</th>\n",
       "      <td>NaN</td>\n",
       "      <td>NaN</td>\n",
       "      <td>NaN</td>\n",
       "      <td>NaN</td>\n",
       "      <td>NaN</td>\n",
       "      <td>NaN</td>\n",
       "      <td>NaN</td>\n",
       "      <td>2018-06-12 05:46:35</td>\n",
       "      <td>2018-06-14 00:07:08</td>\n",
       "    </tr>\n",
       "  </tbody>\n",
       "</table>\n",
       "</div>"
      ],
      "text/plain": [
       "             login   name                      email location  \\\n",
       "count        83113  66667                      33128    50437   \n",
       "unique       83113  60725                      33118    10811   \n",
       "top     Grandrogue   Alex  evgenia.rudoman@gmail.com  Ukraine   \n",
       "freq             1    174                          2     2370   \n",
       "first          NaN    NaN                        NaN      NaN   \n",
       "last           NaN    NaN                        NaN      NaN   \n",
       "\n",
       "                      bio    company   blog         date_created  \\\n",
       "count               23916      31576  83113                83113   \n",
       "unique              22214      21956  33387                83097   \n",
       "top     Software Engineer  Microsoft         2017-09-04 16:51:54   \n",
       "freq                  112       2162  49540                    2   \n",
       "first                 NaN        NaN    NaN  2007-10-20 05:24:19   \n",
       "last                  NaN        NaN    NaN  2018-06-12 05:46:35   \n",
       "\n",
       "               date_updated  \n",
       "count                 83113  \n",
       "unique                81588  \n",
       "top     2017-08-14 19:41:31  \n",
       "freq                     10  \n",
       "first   2012-11-23 21:43:22  \n",
       "last    2018-06-14 00:07:08  "
      ]
     },
     "execution_count": 28,
     "metadata": {},
     "output_type": "execute_result"
    }
   ],
   "source": [
    "df.drop(['created_at', 'updated_at'], axis=1).describe(exclude = np.number)"
   ]
  },
  {
   "cell_type": "code",
   "execution_count": 29,
   "metadata": {},
   "outputs": [
    {
     "data": {
      "text/html": [
       "Account with max following:<br><a href='https://github.com/KevinHock' target=\"_blank\">KevinHock</a>"
      ],
      "text/plain": [
       "<IPython.core.display.HTML object>"
      ]
     },
     "metadata": {},
     "output_type": "display_data"
    }
   ],
   "source": [
    "max_fwing = df.loc[df.following.idxmax()] \n",
    "name = max_fwing['name'] if max_fwing['name'] is not None else max_fwing['login']\n",
    "display(HTML('''Account with max following:<br><a href='https://github.com/{}' target=\"_blank\">{}</a>'''.format(max_fwing.login, name)))"
   ]
  },
  {
   "cell_type": "code",
   "execution_count": 30,
   "metadata": {},
   "outputs": [
    {
     "data": {
      "text/plain": [
       "fromUA                                                          0\n",
       "login                                                   KevinHock\n",
       "name                                                         None\n",
       "email                              kevin.hock.opentoall@gmail.com\n",
       "location                                            San Francisco\n",
       "bio             0.01x engineer. Working on taint tracking pyth...\n",
       "followers                                                    1668\n",
       "following                                                  298448\n",
       "public_repos                                                   21\n",
       "public_gists                                                    1\n",
       "company                                                     @Yelp\n",
       "blog                                                             \n",
       "created_at                                   2012-12-19T00:25:37Z\n",
       "updated_at                                   2018-05-05T01:48:54Z\n",
       "hireable                                                        0\n",
       "site_admin                                                      0\n",
       "date_created                                  2012-12-19 00:25:37\n",
       "date_updated                                  2018-05-05 01:48:54\n",
       "Name: 27364, dtype: object"
      ]
     },
     "execution_count": 30,
     "metadata": {},
     "output_type": "execute_result"
    }
   ],
   "source": [
    "df.loc[df.following.idxmax()]"
   ]
  },
  {
   "cell_type": "code",
   "execution_count": 31,
   "metadata": {},
   "outputs": [
    {
     "data": {
      "text/html": [
       "Account with max followers:<br><a href='https://github.com/torvalds' target=\"_blank\">Linus Torvalds</a>"
      ],
      "text/plain": [
       "<IPython.core.display.HTML object>"
      ]
     },
     "metadata": {},
     "output_type": "display_data"
    }
   ],
   "source": [
    "max_fwers = df.loc[df.followers.idxmax()] \n",
    "name = max_fwers['name'] if max_fwers['name'] is not None else max_fwers['login']\n",
    "display(HTML('''Account with max followers:<br><a href='https://github.com/{}' target=\"_blank\">{}</a>'''.format(max_fwers.login, name)))"
   ]
  },
  {
   "cell_type": "code",
   "execution_count": 32,
   "metadata": {},
   "outputs": [
    {
     "data": {
      "text/plain": [
       "fromUA                             0\n",
       "login                       torvalds\n",
       "name                  Linus Torvalds\n",
       "email                           None\n",
       "location                Portland, OR\n",
       "bio                             None\n",
       "followers                      74510\n",
       "following                          0\n",
       "public_repos                       6\n",
       "public_gists                       0\n",
       "company             Linux Foundation\n",
       "blog                                \n",
       "created_at      2011-09-03T15:26:22Z\n",
       "updated_at      2017-11-14T16:54:03Z\n",
       "hireable                           0\n",
       "site_admin                         0\n",
       "date_created     2011-09-03 15:26:22\n",
       "date_updated     2017-11-14 16:54:03\n",
       "Name: 27968, dtype: object"
      ]
     },
     "execution_count": 32,
     "metadata": {},
     "output_type": "execute_result"
    }
   ],
   "source": [
    "df.loc[df.followers.idxmax()]"
   ]
  },
  {
   "cell_type": "code",
   "execution_count": 33,
   "metadata": {},
   "outputs": [
    {
     "data": {
      "text/plain": [
       "fromUA                                   0\n",
       "login                                  ko1\n",
       "name                         Koichi Sasada\n",
       "email                                 None\n",
       "location                      Tokyo, Japan\n",
       "bio                                   None\n",
       "followers                              692\n",
       "following                                0\n",
       "public_repos                            43\n",
       "public_gists                        264054\n",
       "company                      Cookpad, Inc.\n",
       "blog            http://www.atdot.net/~ko1/\n",
       "created_at            2008-05-07T08:44:41Z\n",
       "updated_at            2018-04-13T21:40:54Z\n",
       "hireable                                 0\n",
       "site_admin                               0\n",
       "date_created           2008-05-07 08:44:41\n",
       "date_updated           2018-04-13 21:40:54\n",
       "Name: 34383, dtype: object"
      ]
     },
     "execution_count": 33,
     "metadata": {},
     "output_type": "execute_result"
    }
   ],
   "source": [
    "df.loc[df.public_gists.idxmax()]"
   ]
  },
  {
   "cell_type": "code",
   "execution_count": 34,
   "metadata": {},
   "outputs": [
    {
     "data": {
      "image/png": "[encoded data removed]",
      "text/plain": [
       "<matplotlib.figure.Figure at 0x1b1dc2fecf8>"
      ]
     },
     "metadata": {},
     "output_type": "display_data"
    }
   ],
   "source": [
    "sns.pairplot(df, vars=[\"followers\", \"following\", \"public_repos\", \"public_gists\"], hue='hireable');"
   ]
  }
 ],
 "metadata": {
  "kernelspec": {
   "display_name": "Python 3",
   "language": "python",
   "name": "python3"
  },
  "language_info": {
   "codemirror_mode": {
    "name": "ipython",
    "version": 3
   },
   "file_extension": ".py",
   "mimetype": "text/x-python",
   "name": "python",
   "nbconvert_exporter": "python",
   "pygments_lexer": "ipython3",
   "version": "3.6.4"
  }
 },
 "nbformat": 4,
 "nbformat_minor": 2
}
