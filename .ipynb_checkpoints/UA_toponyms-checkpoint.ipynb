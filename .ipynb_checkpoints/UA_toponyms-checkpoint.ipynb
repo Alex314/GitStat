{
 "cells": [
  {
   "cell_type": "markdown",
   "metadata": {},
   "source": [
    "# Clustering Ukraine toponyms\n",
    "\n",
    "Having a list of different city names with different spellings in file `ukraine-toponyms.txt` we want to divide it into clusters by cities"
   ]
  },
  {
   "cell_type": "code",
   "execution_count": 1,
   "metadata": {},
   "outputs": [],
   "source": [
    "import numpy as np\n",
    "from leven import levenshtein\n",
    "from sklearn.cluster import DBSCAN\n",
    "import networkx as nx\n",
    "import matplotlib.pyplot as plt"
   ]
  },
  {
   "cell_type": "markdown",
   "metadata": {},
   "source": [
    "Read file"
   ]
  },
  {
   "cell_type": "code",
   "execution_count": 2,
   "metadata": {
    "scrolled": true
   },
   "outputs": [
    {
     "data": {
      "text/plain": [
       "array(['berdiansk', 'berdyansk', 'charkasy', 'cherkassy', 'cherkasy',\n",
       "       'chernigov', 'chernihiv', 'chernivtci', 'chernivtsi', 'chernovtsy',\n",
       "       'dnepr', 'dnepropetrovsk', 'dnepropetrvosk', 'dniepropetrovsk',\n",
       "       'dnipro', \"dnipropetrovs'k\", 'dnipropetrovs`k', 'dnipropetrovsk',\n",
       "       \"donet'sk\", \"donets'k\", 'donetsk', 'irpin', 'ivano-frankinsk',\n",
       "       \"ivano-frankivs'k\", 'ivano-frankivsk', \"khar'kov\", 'kharkiv',\n",
       "       \"kharkivs'ka\", 'kharkov', 'kherson', 'khmelnitskiy', 'khmelnitsky',\n",
       "       'khmelnitskyi', 'khmelnitskyj', 'khmelnytskyi', 'kiev', 'kiew',\n",
       "       'kirovograd', 'kirovohrad', 'kiyv', 'kmelnitskiy', 'kolomyia',\n",
       "       'kovel', 'kremenchug', 'kremenchuk', 'kropyvnytskyi', 'kyev',\n",
       "       'kyiv', 'kyiw', \"l'viv\", 'l`viv', 'lutsk', 'lviv', 'lvov',\n",
       "       'mariupol', 'mukachevo', 'mykolaiv', 'mykolayiv', 'myrhorod',\n",
       "       'nikolaev', 'nikolayev', 'nikoopol', 'oddesa', 'odesa', 'odessa',\n",
       "       \"pereyaslav-khmel'nyts'kyy\", 'poltava', 'rivne', 'rovno',\n",
       "       'rzhishchew', 'sumy', 'svetlovodsk', 'ternopil', \"ternopil'\",\n",
       "       'ukrain', 'ukraina', 'ukraine', 'ukrainian', 'uman', 'uzhgorod',\n",
       "       'uzhhorod', 'uzhorod', 'vasilkov', 'vasylkiv', 'vinnica',\n",
       "       'vinnitca', 'vinnitsa', 'vinnitsia', 'vinnitsya', 'vinnytsia',\n",
       "       'vinnytsya', 'volynska', 'vyshneve', 'yaremche', 'zaporijja',\n",
       "       'zaporizhia', 'zaporizhya', 'zaporizhye', 'zaporizhyzhia',\n",
       "       'zaporizhzhia', 'zaporizhzhya', 'zaporozhie', 'zaporozhye',\n",
       "       'zhitomir', 'zhitomyr', 'zhytomyr', 'zporizhzhe'], dtype='<U25')"
      ]
     },
     "execution_count": 2,
     "metadata": {},
     "output_type": "execute_result"
    }
   ],
   "source": [
    "with open('ukraine-toponyms.txt') as f:\n",
    "    words = np.array([w.split()[0] for w in f])\n",
    "words"
   ]
  },
  {
   "cell_type": "markdown",
   "metadata": {},
   "source": [
    "Define function to get distance based on Levenshtein distance and words lengths"
   ]
  },
  {
   "cell_type": "code",
   "execution_count": 3,
   "metadata": {},
   "outputs": [],
   "source": [
    "def get_dst(w1, w2):\n",
    "    \"\"\"Get distance between 2 words\"\"\"\n",
    "    return levenshtein(w1, w2) / (len(w1) + len(w2) - abs(len(w1) - len(w2)))"
   ]
  },
  {
   "cell_type": "code",
   "execution_count": 4,
   "metadata": {},
   "outputs": [],
   "source": [
    "n_samples = len(words)"
   ]
  },
  {
   "cell_type": "markdown",
   "metadata": {},
   "source": [
    "Compute matrix of distances"
   ]
  },
  {
   "cell_type": "code",
   "execution_count": 5,
   "metadata": {},
   "outputs": [
    {
     "name": "stdout",
     "output_type": "stream",
     "text": [
      "[[0.         0.05555556 0.4375     ... 0.5625     0.5625     0.5       ]\n",
      " [0.05555556 0.         0.4375     ... 0.5625     0.5625     0.5       ]\n",
      " [0.4375     0.4375     0.         ... 0.4375     0.4375     0.5625    ]\n",
      " ...\n",
      " [0.5625     0.5625     0.4375     ... 0.         0.0625     0.5       ]\n",
      " [0.5625     0.5625     0.4375     ... 0.0625     0.         0.5625    ]\n",
      " [0.5        0.5        0.5625     ... 0.5        0.5625     0.        ]]\n"
     ]
    }
   ],
   "source": [
    "dst = np.zeros((n_samples, n_samples))\n",
    "for i in range(n_samples):\n",
    "    for j in range(n_samples):\n",
    "        dst[i, j] = get_dst(words[i], words[j])\n",
    "print(dst)"
   ]
  },
  {
   "cell_type": "markdown",
   "metadata": {},
   "source": [
    "Create and fit DBSCAN model"
   ]
  },
  {
   "cell_type": "code",
   "execution_count": 6,
   "metadata": {
    "scrolled": true
   },
   "outputs": [
    {
     "name": "stdout",
     "output_type": "stream",
     "text": [
      "Estimated number of clusters: 43\n"
     ]
    }
   ],
   "source": [
    "# Compute DBSCAN\n",
    "epsilon = 0.2\n",
    "db = DBSCAN(eps=epsilon, min_samples=1, metric='precomputed').fit(dst)\n",
    "labels = db.labels_\n",
    "\n",
    "# Number of clusters in labels, ignoring noise if present.\n",
    "n_clusters_ = len(set(labels)) - (1 if -1 in labels else 0)\n",
    "\n",
    "print('Estimated number of clusters: %d' % n_clusters_)"
   ]
  },
  {
   "cell_type": "markdown",
   "metadata": {},
   "source": [
    "Print words by clusters"
   ]
  },
  {
   "cell_type": "code",
   "execution_count": 7,
   "metadata": {
    "scrolled": false
   },
   "outputs": [
    {
     "name": "stdout",
     "output_type": "stream",
     "text": [
      "berdiansk, berdyansk\n",
      "charkasy, cherkassy, cherkasy\n",
      "chernigov, chernihiv\n",
      "chernivtci, chernivtsi, chernovtsy\n",
      "dnepr, dnipro\n",
      "dnepropetrovsk, dnepropetrvosk, dniepropetrovsk, dnipropetrovs'k, dnipropetrovs`k, dnipropetrovsk\n",
      "donet'sk, donets'k, donetsk\n",
      "irpin\n",
      "ivano-frankinsk, ivano-frankivs'k, ivano-frankivsk\n",
      "khar'kov, kharkiv, kharkov\n",
      "kharkivs'ka\n",
      "kherson\n",
      "khmelnitskiy, khmelnitsky, khmelnitskyi, khmelnitskyj, khmelnytskyi, kmelnitskiy\n",
      "kiev, kiew, kiyv, kyev, kyiv, kyiw\n",
      "kirovograd, kirovohrad\n",
      "kolomyia\n",
      "kovel\n",
      "kremenchug, kremenchuk\n",
      "kropyvnytskyi\n",
      "l'viv, l`viv, lviv, lvov\n",
      "lutsk\n",
      "mariupol\n",
      "mukachevo\n",
      "mykolaiv, mykolayiv, nikolaev, nikolayev\n",
      "myrhorod, uzhgorod, uzhhorod, uzhorod\n",
      "nikoopol\n",
      "oddesa, odesa, odessa\n",
      "pereyaslav-khmel'nyts'kyy\n",
      "poltava\n",
      "rivne, rovno\n",
      "rzhishchew\n",
      "sumy\n",
      "svetlovodsk\n",
      "ternopil, ternopil'\n",
      "ukrain, ukraina, ukraine, ukrainian\n",
      "uman\n",
      "vasilkov, vasylkiv\n",
      "vinnica, vinnitca, vinnitsa, vinnitsia, vinnitsya, vinnytsia, vinnytsya\n",
      "volynska\n",
      "vyshneve\n",
      "yaremche\n",
      "zaporijja, zaporizhia, zaporizhya, zaporizhye, zaporizhyzhia, zaporizhzhia, zaporizhzhya, zaporozhie, zaporozhye, zporizhzhe\n",
      "zhitomir, zhitomyr, zhytomyr\n"
     ]
    }
   ],
   "source": [
    "for n in range(n_clusters_):\n",
    "    idx = labels == n\n",
    "    print(', '.join(words[idx]))"
   ]
  }
 ],
 "metadata": {
  "kernelspec": {
   "display_name": "Python 3",
   "language": "python",
   "name": "python3"
  },
  "language_info": {
   "codemirror_mode": {
    "name": "ipython",
    "version": 3
   },
   "file_extension": ".py",
   "mimetype": "text/x-python",
   "name": "python",
   "nbconvert_exporter": "python",
   "pygments_lexer": "ipython3",
   "version": "3.6.4"
  }
 },
 "nbformat": 4,
 "nbformat_minor": 2
}
