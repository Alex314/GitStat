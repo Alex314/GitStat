{
 "cells": [
  {
   "cell_type": "markdown",
   "metadata": {},
   "source": [
    "# GitHub UA statistic\n",
    "\n",
    "Basic stats of Ukrainian GitHub users. Information neither full nor representative"
   ]
  },
  {
   "cell_type": "code",
   "execution_count": 73,
   "metadata": {},
   "outputs": [],
   "source": [
    "import pandas as pd\n",
    "import numpy as np\n",
    "import seaborn as sns\n",
    "import mysql.connector\n",
    "from sqlalchemy import create_engine"
   ]
  },
  {
   "cell_type": "code",
   "execution_count": 87,
   "metadata": {},
   "outputs": [],
   "source": [
    "password = 'XXXXXXXX'"
   ]
  },
  {
   "cell_type": "code",
   "execution_count": 88,
   "metadata": {},
   "outputs": [],
   "source": [
    "engine = create_engine('mysql+mysqlconnector://root:{}@localhost:3306/github'.format(password), echo=False)"
   ]
  },
  {
   "cell_type": "code",
   "execution_count": 89,
   "metadata": {},
   "outputs": [],
   "source": [
    "df = pd.read_sql('SELECT * FROM users_ukr', engine).set_index('id')"
   ]
  },
  {
   "cell_type": "markdown",
   "metadata": {},
   "source": [
    "Raw data from my DB"
   ]
  },
  {
   "cell_type": "code",
   "execution_count": 90,
   "metadata": {
    "scrolled": true
   },
   "outputs": [
    {
     "data": {
      "text/html": [
       "<div>\n",
       "<style scoped>\n",
       "    .dataframe tbody tr th:only-of-type {\n",
       "        vertical-align: middle;\n",
       "    }\n",
       "\n",
       "    .dataframe tbody tr th {\n",
       "        vertical-align: top;\n",
       "    }\n",
       "\n",
       "    .dataframe thead th {\n",
       "        text-align: right;\n",
       "    }\n",
       "</style>\n",
       "<table border=\"1\" class=\"dataframe\">\n",
       "  <thead>\n",
       "    <tr style=\"text-align: right;\">\n",
       "      <th></th>\n",
       "      <th>parsed</th>\n",
       "      <th>login</th>\n",
       "      <th>name</th>\n",
       "      <th>email</th>\n",
       "      <th>location</th>\n",
       "      <th>bio</th>\n",
       "      <th>followers</th>\n",
       "      <th>following</th>\n",
       "      <th>public_repos</th>\n",
       "      <th>public_gists</th>\n",
       "      <th>company</th>\n",
       "      <th>blog</th>\n",
       "      <th>created_at</th>\n",
       "      <th>updated_at</th>\n",
       "      <th>hireable</th>\n",
       "      <th>type</th>\n",
       "      <th>site_admin</th>\n",
       "      <th>github_id</th>\n",
       "      <th>node_id</th>\n",
       "    </tr>\n",
       "    <tr>\n",
       "      <th>id</th>\n",
       "      <th></th>\n",
       "      <th></th>\n",
       "      <th></th>\n",
       "      <th></th>\n",
       "      <th></th>\n",
       "      <th></th>\n",
       "      <th></th>\n",
       "      <th></th>\n",
       "      <th></th>\n",
       "      <th></th>\n",
       "      <th></th>\n",
       "      <th></th>\n",
       "      <th></th>\n",
       "      <th></th>\n",
       "      <th></th>\n",
       "      <th></th>\n",
       "      <th></th>\n",
       "      <th></th>\n",
       "      <th></th>\n",
       "    </tr>\n",
       "  </thead>\n",
       "  <tbody>\n",
       "    <tr>\n",
       "      <th>48</th>\n",
       "      <td>1</td>\n",
       "      <td>inayelle-arts</td>\n",
       "      <td>inayelle_arts</td>\n",
       "      <td>None</td>\n",
       "      <td>Ukraine</td>\n",
       "      <td>universal keklol developer</td>\n",
       "      <td>7</td>\n",
       "      <td>0</td>\n",
       "      <td>22</td>\n",
       "      <td>0</td>\n",
       "      <td>None</td>\n",
       "      <td>qwe</td>\n",
       "      <td>2015-11-26T14:36:38Z</td>\n",
       "      <td>2018-06-09T14:56:42Z</td>\n",
       "      <td>None</td>\n",
       "      <td>User</td>\n",
       "      <td>0</td>\n",
       "      <td>None</td>\n",
       "      <td>MDQ6VXNlcjE2MDM0NDcw</td>\n",
       "    </tr>\n",
       "    <tr>\n",
       "      <th>163</th>\n",
       "      <td>1</td>\n",
       "      <td>AlexeyBatin</td>\n",
       "      <td>Alexey</td>\n",
       "      <td>None</td>\n",
       "      <td>Kiev</td>\n",
       "      <td>KPI student</td>\n",
       "      <td>4</td>\n",
       "      <td>5</td>\n",
       "      <td>7</td>\n",
       "      <td>1</td>\n",
       "      <td>None</td>\n",
       "      <td></td>\n",
       "      <td>2016-11-06T19:05:02Z</td>\n",
       "      <td>2018-06-06T11:06:10Z</td>\n",
       "      <td>None</td>\n",
       "      <td>User</td>\n",
       "      <td>0</td>\n",
       "      <td>None</td>\n",
       "      <td>MDQ6VXNlcjIzMjk4MzY0</td>\n",
       "    </tr>\n",
       "    <tr>\n",
       "      <th>164</th>\n",
       "      <td>1</td>\n",
       "      <td>ArtAleksey</td>\n",
       "      <td>Oleksiy</td>\n",
       "      <td>None</td>\n",
       "      <td>Kyiv, Ukraine</td>\n",
       "      <td>programming&lt;3</td>\n",
       "      <td>2</td>\n",
       "      <td>4</td>\n",
       "      <td>3</td>\n",
       "      <td>0</td>\n",
       "      <td>None</td>\n",
       "      <td></td>\n",
       "      <td>2017-11-09T21:44:07Z</td>\n",
       "      <td>2018-04-15T15:22:15Z</td>\n",
       "      <td>None</td>\n",
       "      <td>User</td>\n",
       "      <td>0</td>\n",
       "      <td>None</td>\n",
       "      <td>MDQ6VXNlcjMzNTMwMTYx</td>\n",
       "    </tr>\n",
       "    <tr>\n",
       "      <th>165</th>\n",
       "      <td>1</td>\n",
       "      <td>OlhaPokhvalenna</td>\n",
       "      <td>Olha Pokhvalenna</td>\n",
       "      <td>None</td>\n",
       "      <td>Kiev, Ukraine</td>\n",
       "      <td>Using things I don't need.</td>\n",
       "      <td>6</td>\n",
       "      <td>7</td>\n",
       "      <td>5</td>\n",
       "      <td>0</td>\n",
       "      <td>None</td>\n",
       "      <td></td>\n",
       "      <td>2017-10-04T13:18:16Z</td>\n",
       "      <td>2018-06-03T17:21:10Z</td>\n",
       "      <td>None</td>\n",
       "      <td>User</td>\n",
       "      <td>0</td>\n",
       "      <td>None</td>\n",
       "      <td>MDQ6VXNlcjMyNTE1Njg3</td>\n",
       "    </tr>\n",
       "    <tr>\n",
       "      <th>166</th>\n",
       "      <td>1</td>\n",
       "      <td>oxyyyyy</td>\n",
       "      <td>Alexandr Vlasenko</td>\n",
       "      <td>olexandr.vlasenko@gmail.com</td>\n",
       "      <td>Kiev</td>\n",
       "      <td>Front-end developer.\\r\\nUkraine, Kiev.\\r\\n\\r\\n...</td>\n",
       "      <td>6</td>\n",
       "      <td>8</td>\n",
       "      <td>39</td>\n",
       "      <td>5</td>\n",
       "      <td>Pro Group Consult</td>\n",
       "      <td>http://a-vlasenko.zzz.com.ua/</td>\n",
       "      <td>2016-02-18T17:57:36Z</td>\n",
       "      <td>2018-05-11T17:48:24Z</td>\n",
       "      <td>1</td>\n",
       "      <td>User</td>\n",
       "      <td>0</td>\n",
       "      <td>None</td>\n",
       "      <td>MDQ6VXNlcjE3MzIwODE2</td>\n",
       "    </tr>\n",
       "  </tbody>\n",
       "</table>\n",
       "</div>"
      ],
      "text/plain": [
       "     parsed            login               name                        email  \\\n",
       "id                                                                             \n",
       "48        1    inayelle-arts      inayelle_arts                         None   \n",
       "163       1      AlexeyBatin             Alexey                         None   \n",
       "164       1       ArtAleksey            Oleksiy                         None   \n",
       "165       1  OlhaPokhvalenna   Olha Pokhvalenna                         None   \n",
       "166       1          oxyyyyy  Alexandr Vlasenko  olexandr.vlasenko@gmail.com   \n",
       "\n",
       "          location                                                bio  \\\n",
       "id                                                                      \n",
       "48         Ukraine                         universal keklol developer   \n",
       "163           Kiev                                       KPI student    \n",
       "164  Kyiv, Ukraine                                      programming<3   \n",
       "165  Kiev, Ukraine                         Using things I don't need.   \n",
       "166           Kiev  Front-end developer.\\r\\nUkraine, Kiev.\\r\\n\\r\\n...   \n",
       "\n",
       "     followers  following  public_repos  public_gists            company  \\\n",
       "id                                                                         \n",
       "48           7          0            22             0               None   \n",
       "163          4          5             7             1               None   \n",
       "164          2          4             3             0               None   \n",
       "165          6          7             5             0               None   \n",
       "166          6          8            39             5  Pro Group Consult   \n",
       "\n",
       "                              blog            created_at  \\\n",
       "id                                                         \n",
       "48                             qwe  2015-11-26T14:36:38Z   \n",
       "163                                 2016-11-06T19:05:02Z   \n",
       "164                                 2017-11-09T21:44:07Z   \n",
       "165                                 2017-10-04T13:18:16Z   \n",
       "166  http://a-vlasenko.zzz.com.ua/  2016-02-18T17:57:36Z   \n",
       "\n",
       "               updated_at hireable  type site_admin github_id  \\\n",
       "id                                                              \n",
       "48   2018-06-09T14:56:42Z     None  User          0      None   \n",
       "163  2018-06-06T11:06:10Z     None  User          0      None   \n",
       "164  2018-04-15T15:22:15Z     None  User          0      None   \n",
       "165  2018-06-03T17:21:10Z     None  User          0      None   \n",
       "166  2018-05-11T17:48:24Z        1  User          0      None   \n",
       "\n",
       "                  node_id  \n",
       "id                         \n",
       "48   MDQ6VXNlcjE2MDM0NDcw  \n",
       "163  MDQ6VXNlcjIzMjk4MzY0  \n",
       "164  MDQ6VXNlcjMzNTMwMTYx  \n",
       "165  MDQ6VXNlcjMyNTE1Njg3  \n",
       "166  MDQ6VXNlcjE3MzIwODE2  "
      ]
     },
     "execution_count": 90,
     "metadata": {},
     "output_type": "execute_result"
    }
   ],
   "source": [
    "df.head()"
   ]
  },
  {
   "cell_type": "markdown",
   "metadata": {},
   "source": [
    "Simple cleaning"
   ]
  },
  {
   "cell_type": "code",
   "execution_count": 91,
   "metadata": {},
   "outputs": [],
   "source": [
    "df.drop(['parsed', 'type', 'site_admin', 'github_id', 'node_id'], axis=1, inplace=True)"
   ]
  },
  {
   "cell_type": "code",
   "execution_count": 92,
   "metadata": {},
   "outputs": [],
   "source": [
    "df['hireable'].fillna(0, inplace=True)"
   ]
  },
  {
   "cell_type": "code",
   "execution_count": 93,
   "metadata": {},
   "outputs": [],
   "source": [
    "df['hireable'] = df['hireable'].astype('int64')"
   ]
  },
  {
   "cell_type": "markdown",
   "metadata": {},
   "source": [
    "Description of numerical data"
   ]
  },
  {
   "cell_type": "code",
   "execution_count": 94,
   "metadata": {
    "scrolled": false
   },
   "outputs": [
    {
     "data": {
      "text/html": [
       "<div>\n",
       "<style scoped>\n",
       "    .dataframe tbody tr th:only-of-type {\n",
       "        vertical-align: middle;\n",
       "    }\n",
       "\n",
       "    .dataframe tbody tr th {\n",
       "        vertical-align: top;\n",
       "    }\n",
       "\n",
       "    .dataframe thead th {\n",
       "        text-align: right;\n",
       "    }\n",
       "</style>\n",
       "<table border=\"1\" class=\"dataframe\">\n",
       "  <thead>\n",
       "    <tr style=\"text-align: right;\">\n",
       "      <th></th>\n",
       "      <th>followers</th>\n",
       "      <th>following</th>\n",
       "      <th>public_repos</th>\n",
       "      <th>public_gists</th>\n",
       "      <th>hireable</th>\n",
       "    </tr>\n",
       "  </thead>\n",
       "  <tbody>\n",
       "    <tr>\n",
       "      <th>count</th>\n",
       "      <td>6984.000000</td>\n",
       "      <td>6984.000000</td>\n",
       "      <td>6984.000000</td>\n",
       "      <td>6984.000000</td>\n",
       "      <td>6984.000000</td>\n",
       "    </tr>\n",
       "    <tr>\n",
       "      <th>mean</th>\n",
       "      <td>11.285080</td>\n",
       "      <td>12.583047</td>\n",
       "      <td>17.220647</td>\n",
       "      <td>4.028637</td>\n",
       "      <td>0.270762</td>\n",
       "    </tr>\n",
       "    <tr>\n",
       "      <th>std</th>\n",
       "      <td>44.575307</td>\n",
       "      <td>93.111744</td>\n",
       "      <td>29.190660</td>\n",
       "      <td>14.632479</td>\n",
       "      <td>0.444385</td>\n",
       "    </tr>\n",
       "    <tr>\n",
       "      <th>min</th>\n",
       "      <td>0.000000</td>\n",
       "      <td>0.000000</td>\n",
       "      <td>0.000000</td>\n",
       "      <td>0.000000</td>\n",
       "      <td>0.000000</td>\n",
       "    </tr>\n",
       "    <tr>\n",
       "      <th>25%</th>\n",
       "      <td>2.000000</td>\n",
       "      <td>1.000000</td>\n",
       "      <td>5.000000</td>\n",
       "      <td>0.000000</td>\n",
       "      <td>0.000000</td>\n",
       "    </tr>\n",
       "    <tr>\n",
       "      <th>50%</th>\n",
       "      <td>4.000000</td>\n",
       "      <td>4.000000</td>\n",
       "      <td>10.000000</td>\n",
       "      <td>0.000000</td>\n",
       "      <td>0.000000</td>\n",
       "    </tr>\n",
       "    <tr>\n",
       "      <th>75%</th>\n",
       "      <td>9.000000</td>\n",
       "      <td>10.000000</td>\n",
       "      <td>20.000000</td>\n",
       "      <td>3.000000</td>\n",
       "      <td>1.000000</td>\n",
       "    </tr>\n",
       "    <tr>\n",
       "      <th>max</th>\n",
       "      <td>2112.000000</td>\n",
       "      <td>6037.000000</td>\n",
       "      <td>1276.000000</td>\n",
       "      <td>550.000000</td>\n",
       "      <td>1.000000</td>\n",
       "    </tr>\n",
       "  </tbody>\n",
       "</table>\n",
       "</div>"
      ],
      "text/plain": [
       "         followers    following  public_repos  public_gists     hireable\n",
       "count  6984.000000  6984.000000   6984.000000   6984.000000  6984.000000\n",
       "mean     11.285080    12.583047     17.220647      4.028637     0.270762\n",
       "std      44.575307    93.111744     29.190660     14.632479     0.444385\n",
       "min       0.000000     0.000000      0.000000      0.000000     0.000000\n",
       "25%       2.000000     1.000000      5.000000      0.000000     0.000000\n",
       "50%       4.000000     4.000000     10.000000      0.000000     0.000000\n",
       "75%       9.000000    10.000000     20.000000      3.000000     1.000000\n",
       "max    2112.000000  6037.000000   1276.000000    550.000000     1.000000"
      ]
     },
     "execution_count": 94,
     "metadata": {},
     "output_type": "execute_result"
    }
   ],
   "source": [
    "df.describe()"
   ]
  },
  {
   "cell_type": "markdown",
   "metadata": {},
   "source": [
    "Description of text/categorical data"
   ]
  },
  {
   "cell_type": "code",
   "execution_count": 95,
   "metadata": {
    "scrolled": true
   },
   "outputs": [
    {
     "data": {
      "text/html": [
       "<div>\n",
       "<style scoped>\n",
       "    .dataframe tbody tr th:only-of-type {\n",
       "        vertical-align: middle;\n",
       "    }\n",
       "\n",
       "    .dataframe tbody tr th {\n",
       "        vertical-align: top;\n",
       "    }\n",
       "\n",
       "    .dataframe thead th {\n",
       "        text-align: right;\n",
       "    }\n",
       "</style>\n",
       "<table border=\"1\" class=\"dataframe\">\n",
       "  <thead>\n",
       "    <tr style=\"text-align: right;\">\n",
       "      <th></th>\n",
       "      <th>login</th>\n",
       "      <th>name</th>\n",
       "      <th>email</th>\n",
       "      <th>location</th>\n",
       "      <th>bio</th>\n",
       "      <th>company</th>\n",
       "      <th>blog</th>\n",
       "    </tr>\n",
       "  </thead>\n",
       "  <tbody>\n",
       "    <tr>\n",
       "      <th>count</th>\n",
       "      <td>6984</td>\n",
       "      <td>6765</td>\n",
       "      <td>3370</td>\n",
       "      <td>6984</td>\n",
       "      <td>1952</td>\n",
       "      <td>2663</td>\n",
       "      <td>6984</td>\n",
       "    </tr>\n",
       "    <tr>\n",
       "      <th>unique</th>\n",
       "      <td>6984</td>\n",
       "      <td>5709</td>\n",
       "      <td>3368</td>\n",
       "      <td>469</td>\n",
       "      <td>1716</td>\n",
       "      <td>1901</td>\n",
       "      <td>2197</td>\n",
       "    </tr>\n",
       "    <tr>\n",
       "      <th>top</th>\n",
       "      <td>vodrems</td>\n",
       "      <td>Alex</td>\n",
       "      <td>zminyty@gmail.com</td>\n",
       "      <td>Ukraine</td>\n",
       "      <td>Front-end developer</td>\n",
       "      <td>SoftServe</td>\n",
       "      <td></td>\n",
       "    </tr>\n",
       "    <tr>\n",
       "      <th>freq</th>\n",
       "      <td>1</td>\n",
       "      <td>43</td>\n",
       "      <td>2</td>\n",
       "      <td>1701</td>\n",
       "      <td>23</td>\n",
       "      <td>40</td>\n",
       "      <td>4762</td>\n",
       "    </tr>\n",
       "  </tbody>\n",
       "</table>\n",
       "</div>"
      ],
      "text/plain": [
       "          login  name              email location                  bio  \\\n",
       "count      6984  6765               3370     6984                 1952   \n",
       "unique     6984  5709               3368      469                 1716   \n",
       "top     vodrems  Alex  zminyty@gmail.com  Ukraine  Front-end developer   \n",
       "freq          1    43                  2     1701                   23   \n",
       "\n",
       "          company  blog  \n",
       "count        2663  6984  \n",
       "unique       1901  2197  \n",
       "top     SoftServe        \n",
       "freq           40  4762  "
      ]
     },
     "execution_count": 95,
     "metadata": {},
     "output_type": "execute_result"
    }
   ],
   "source": [
    "df.drop(['created_at', 'updated_at'], axis=1).describe(exclude = np.number)"
   ]
  },
  {
   "cell_type": "markdown",
   "metadata": {},
   "source": [
    "Account with max following\n",
    "\n",
    "https://github.com/ujinius"
   ]
  },
  {
   "cell_type": "code",
   "execution_count": 96,
   "metadata": {},
   "outputs": [
    {
     "data": {
      "text/plain": [
       "login                                                     ujinius\n",
       "name                                              Eugene Zaretsky\n",
       "email                                           eugene@agilie.com\n",
       "location                                  Ukraine, Dnipropetrovsk\n",
       "bio             R&D Engineer, Web/Server department team lead ...\n",
       "followers                                                      65\n",
       "following                                                    6037\n",
       "public_repos                                                    1\n",
       "public_gists                                                    0\n",
       "company                                                  @agilie \n",
       "blog                                           https://agilie.com\n",
       "created_at                                   2013-02-28T19:32:20Z\n",
       "updated_at                                   2018-05-12T04:13:48Z\n",
       "hireable                                                        0\n",
       "Name: 7838, dtype: object"
      ]
     },
     "execution_count": 96,
     "metadata": {},
     "output_type": "execute_result"
    }
   ],
   "source": [
    "df.loc[df.following.idxmax()]"
   ]
  },
  {
   "cell_type": "markdown",
   "metadata": {},
   "source": [
    "Account with max followers\n",
    "\n",
    "https://github.com/mourner"
   ]
  },
  {
   "cell_type": "code",
   "execution_count": 97,
   "metadata": {},
   "outputs": [
    {
     "data": {
      "text/plain": [
       "login                                                     mourner\n",
       "name                                           Vladimir Agafonkin\n",
       "email                                         agafonkin@gmail.com\n",
       "location                                            Kyiv, Ukraine\n",
       "bio             Engineer at @Mapbox, building mapping tools of...\n",
       "followers                                                    2112\n",
       "following                                                     239\n",
       "public_repos                                                   59\n",
       "public_gists                                                   54\n",
       "company                                                    Mapbox\n",
       "blog                                      http://agafonkin.com/en\n",
       "created_at                                   2008-09-19T16:52:39Z\n",
       "updated_at                                   2018-06-10T04:09:40Z\n",
       "hireable                                                        0\n",
       "Name: 287, dtype: object"
      ]
     },
     "execution_count": 97,
     "metadata": {},
     "output_type": "execute_result"
    }
   ],
   "source": [
    "df.loc[df.followers.idxmax()]"
   ]
  },
  {
   "cell_type": "code",
   "execution_count": 98,
   "metadata": {},
   "outputs": [
    {
     "data": {
      "image/png": "[encoded data removed]",
      "text/plain": [
       "<matplotlib.figure.Figure at 0x1dc929e2eb8>"
      ]
     },
     "metadata": {},
     "output_type": "display_data"
    }
   ],
   "source": [
    "sns.pairplot(df, vars=[\"followers\", \"following\", \"public_repos\", \"public_gists\"], hue='hireable');"
   ]
  },
  {
   "cell_type": "code",
   "execution_count": null,
   "metadata": {},
   "outputs": [],
   "source": []
  }
 ],
 "metadata": {
  "kernelspec": {
   "display_name": "Python 3",
   "language": "python",
   "name": "python3"
  },
  "language_info": {
   "codemirror_mode": {
    "name": "ipython",
    "version": 3
   },
   "file_extension": ".py",
   "mimetype": "text/x-python",
   "name": "python",
   "nbconvert_exporter": "python",
   "pygments_lexer": "ipython3",
   "version": "3.6.4"
  }
 },
 "nbformat": 4,
 "nbformat_minor": 2
}
